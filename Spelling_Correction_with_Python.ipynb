{
  "nbformat": 4,
  "nbformat_minor": 0,
  "metadata": {
    "colab": {
      "provenance": [],
      "authorship_tag": "ABX9TyPfKsJkkWwVXWbDdurWa0tM",
      "include_colab_link": true
    },
    "kernelspec": {
      "name": "python3",
      "display_name": "Python 3"
    },
    "language_info": {
      "name": "python"
    }
  },
  "cells": [
    {
      "cell_type": "markdown",
      "metadata": {
        "id": "view-in-github",
        "colab_type": "text"
      },
      "source": [
        "<a href=\"https://colab.research.google.com/github/GuptaChanchal08/Python_Assignment/blob/main/Spelling_Correction_with_Python.ipynb\" target=\"_parent\"><img src=\"https://colab.research.google.com/assets/colab-badge.svg\" alt=\"Open In Colab\"/></a>"
      ]
    },
    {
      "cell_type": "code",
      "execution_count": null,
      "metadata": {
        "colab": {
          "base_uri": "https://localhost:8080/"
        },
        "id": "nA7FuDG2_WcW",
        "outputId": "5cdf07ff-f10e-4c55-c92c-e87cc3bc0b00"
      },
      "outputs": [
        {
          "output_type": "stream",
          "name": "stdout",
          "text": [
            "Enter your word : mesasge and txet\n",
            "Wrong words : ['mesasge', 'and', 'txet']\n",
            "Corrected Words are :\n",
            "message and text "
          ]
        }
      ],
      "source": [
        "from textblob import TextBlob;\n",
        "def Convert(string):\n",
        " li = list(string.split());\n",
        " return li;\n",
        "str1 = input(\"Enter your word : \");\n",
        "words=Convert(str1);\n",
        "corrected_words = [];\n",
        "for i in words:\n",
        " corrected_words.append(TextBlob(i));\n",
        "print(\"Wrong words :\", words);\n",
        "print(\"Corrected Words are :\");\n",
        "for i in corrected_words:\n",
        " print(i.correct(), end=\" \");"
      ]
    }
  ]
}