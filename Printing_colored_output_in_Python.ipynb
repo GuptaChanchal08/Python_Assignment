{
  "nbformat": 4,
  "nbformat_minor": 0,
  "metadata": {
    "colab": {
      "provenance": [],
      "authorship_tag": "ABX9TyPcEUamLuMICzxhrNadUD53",
      "include_colab_link": true
    },
    "kernelspec": {
      "name": "python3",
      "display_name": "Python 3"
    },
    "language_info": {
      "name": "python"
    }
  },
  "cells": [
    {
      "cell_type": "markdown",
      "metadata": {
        "id": "view-in-github",
        "colab_type": "text"
      },
      "source": [
        "<a href=\"https://colab.research.google.com/github/GuptaChanchal08/Python_Assignment/blob/main/Printing_colored_output_in_Python.ipynb\" target=\"_parent\"><img src=\"https://colab.research.google.com/assets/colab-badge.svg\" alt=\"Open In Colab\"/></a>"
      ]
    },
    {
      "cell_type": "code",
      "source": [
        "!pip install colorama"
      ],
      "metadata": {
        "colab": {
          "base_uri": "https://localhost:8080/"
        },
        "id": "AhVPk9Qqf-tV",
        "outputId": "5ce9c930-539d-45c3-c400-cb9c36c8046f"
      },
      "execution_count": null,
      "outputs": [
        {
          "output_type": "stream",
          "name": "stdout",
          "text": [
            "Collecting colorama\n",
            "  Downloading colorama-0.4.6-py2.py3-none-any.whl (25 kB)\n",
            "Installing collected packages: colorama\n",
            "Successfully installed colorama-0.4.6\n"
          ]
        }
      ]
    },
    {
      "cell_type": "code",
      "execution_count": null,
      "metadata": {
        "colab": {
          "base_uri": "https://localhost:8080/"
        },
        "id": "WRBPrtEa7RRp",
        "outputId": "441c2f2b-3b4f-4d14-ee6e-219f55d47d0e"
      },
      "outputs": [
        {
          "output_type": "stream",
          "name": "stdout",
          "text": [
            "\u001b[31mhello world\n",
            "\u001b[34mhello world\n",
            "\u001b[32mhello world\n",
            "\u001b[33mCLCODING.COM\n",
            "\u001b[36mTHANK YOU\n"
          ]
        }
      ],
      "source": [
        "from colorama import Fore\n",
        "print(Fore.RED + \"hello world\")\n",
        "print(Fore.BLUE + \"hello world\")\n",
        "print(Fore.GREEN + \"hello world\")\n",
        "print(Fore.YELLOW + \"CLCODING.COM\")\n",
        "print(Fore.CYAN + \"THANK YOU\")"
      ]
    }
  ]
}