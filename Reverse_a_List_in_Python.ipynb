{
  "nbformat": 4,
  "nbformat_minor": 0,
  "metadata": {
    "colab": {
      "provenance": [],
      "authorship_tag": "ABX9TyPnWKYKExu0w7A3opaUVKnE",
      "include_colab_link": true
    },
    "kernelspec": {
      "name": "python3",
      "display_name": "Python 3"
    },
    "language_info": {
      "name": "python"
    }
  },
  "cells": [
    {
      "cell_type": "markdown",
      "metadata": {
        "id": "view-in-github",
        "colab_type": "text"
      },
      "source": [
        "<a href=\"https://colab.research.google.com/github/GuptaChanchal08/Python_Assignment/blob/main/Reverse_a_List_in_Python.ipynb\" target=\"_parent\"><img src=\"https://colab.research.google.com/assets/colab-badge.svg\" alt=\"Open In Colab\"/></a>"
      ]
    },
    {
      "cell_type": "code",
      "execution_count": null,
      "metadata": {
        "colab": {
          "base_uri": "https://localhost:8080/"
        },
        "id": "cI7w_Qlk2sgo",
        "outputId": "47ff56c1-a931-4ad9-c351-4935fc38408b"
      },
      "outputs": [
        {
          "output_type": "stream",
          "name": "stdout",
          "text": [
            "[5, 4, 3, 2, 1]\n"
          ]
        }
      ],
      "source": [
        "#1 Using the reverse method\n",
        "\n",
        "my_list=[1, 2, 3, 4, 5];\n",
        "my_list.reverse();\n",
        "print(my_list);"
      ]
    },
    {
      "cell_type": "code",
      "source": [
        "#2 Using the slicing\n",
        "\n",
        "my_list=[1, 2, 3, 4, 5];\n",
        "reversed_list = my_list[ ::- 1];\n",
        "print(reversed_list);"
      ],
      "metadata": {
        "colab": {
          "base_uri": "https://localhost:8080/"
        },
        "id": "J93OcGky5ot8",
        "outputId": "710826d1-ebe6-4fbf-d68c-4ce2edf65aee"
      },
      "execution_count": null,
      "outputs": [
        {
          "output_type": "stream",
          "name": "stdout",
          "text": [
            "[5, 4, 3, 2, 1]\n"
          ]
        }
      ]
    },
    {
      "cell_type": "code",
      "source": [
        "#3 Using the reversed function\n",
        "\n",
        "my_list =[1, 2, 3, 4, 5];\n",
        "reversed_list = list(reversed(my_list));\n",
        "print(reversed_list);"
      ],
      "metadata": {
        "colab": {
          "base_uri": "https://localhost:8080/"
        },
        "id": "hnJN0edp5tX4",
        "outputId": "975665e0-d9be-4538-a4aa-219a8b315409"
      },
      "execution_count": null,
      "outputs": [
        {
          "output_type": "stream",
          "name": "stdout",
          "text": [
            "[5, 4, 3, 2, 1]\n"
          ]
        }
      ]
    },
    {
      "cell_type": "code",
      "source": [
        "#4 Using a loop\n",
        "\n",
        "my_l=[1, 2, 3, 4, 5];\n",
        "r_list = [];\n",
        "for i in my_l:\n",
        " r_list.insert(0,i);\n",
        "print(r_list);"
      ],
      "metadata": {
        "colab": {
          "base_uri": "https://localhost:8080/"
        },
        "id": "YHc8Tk8T5th-",
        "outputId": "577553dc-7791-4d06-c847-e301cb5bb316"
      },
      "execution_count": null,
      "outputs": [
        {
          "output_type": "stream",
          "name": "stdout",
          "text": [
            "[5, 4, 3, 2, 1]\n"
          ]
        }
      ]
    },
    {
      "cell_type": "code",
      "source": [
        "#5 Using append method\n",
        "\n",
        "for i in range(len(my_list) -1, -1, -1):\n",
        " reversed_list.append(my_list[i]);"
      ],
      "metadata": {
        "id": "zunf5lha7AvU"
      },
      "execution_count": null,
      "outputs": []
    }
  ]
}