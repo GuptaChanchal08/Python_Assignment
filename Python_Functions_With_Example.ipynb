{
  "nbformat": 4,
  "nbformat_minor": 0,
  "metadata": {
    "colab": {
      "provenance": [],
      "authorship_tag": "ABX9TyNIKuPmNDw1Cf022JJQB5SA",
      "include_colab_link": true
    },
    "kernelspec": {
      "name": "python3",
      "display_name": "Python 3"
    },
    "language_info": {
      "name": "python"
    }
  },
  "cells": [
    {
      "cell_type": "markdown",
      "metadata": {
        "id": "view-in-github",
        "colab_type": "text"
      },
      "source": [
        "<a href=\"https://colab.research.google.com/github/GuptaChanchal08/Python_Assignment/blob/main/Python_Functions_With_Example.ipynb\" target=\"_parent\"><img src=\"https://colab.research.google.com/assets/colab-badge.svg\" alt=\"Open In Colab\"/></a>"
      ]
    },
    {
      "cell_type": "code",
      "execution_count": null,
      "metadata": {
        "id": "eaNCx2zK7X_4",
        "colab": {
          "base_uri": "https://localhost:8080/"
        },
        "outputId": "7c25a6c3-7940-461c-acb2-c580914191e3"
      },
      "outputs": [
        {
          "output_type": "stream",
          "name": "stdout",
          "text": [
            "8\n"
          ]
        }
      ],
      "source": [
        "def addTwo(a,b):\n",
        " c= a+b;\n",
        " return c;\n",
        "\n",
        "print(addTwo(5,3));"
      ]
    },
    {
      "cell_type": "code",
      "source": [
        "addTwo =lambda a,b: a+b\n",
        "\n",
        "print(addTwo(2,3))"
      ],
      "metadata": {
        "colab": {
          "base_uri": "https://localhost:8080/"
        },
        "id": "1qfNjGEQ8rqm",
        "outputId": "fac14f34-5382-4b23-d164-870174c51d68"
      },
      "execution_count": null,
      "outputs": [
        {
          "output_type": "stream",
          "name": "stdout",
          "text": [
            "5\n"
          ]
        }
      ]
    }
  ]
}