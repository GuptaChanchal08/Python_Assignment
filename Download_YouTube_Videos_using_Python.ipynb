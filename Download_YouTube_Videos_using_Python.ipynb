{
  "nbformat": 4,
  "nbformat_minor": 0,
  "metadata": {
    "colab": {
      "provenance": [],
      "authorship_tag": "ABX9TyMcJxmGoXE3LVk4ii2SWkX1",
      "include_colab_link": true
    },
    "kernelspec": {
      "name": "python3",
      "display_name": "Python 3"
    },
    "language_info": {
      "name": "python"
    }
  },
  "cells": [
    {
      "cell_type": "markdown",
      "metadata": {
        "id": "view-in-github",
        "colab_type": "text"
      },
      "source": [
        "<a href=\"https://colab.research.google.com/github/GuptaChanchal08/Python_Assignment/blob/main/Download_YouTube_Videos_using_Python.ipynb\" target=\"_parent\"><img src=\"https://colab.research.google.com/assets/colab-badge.svg\" alt=\"Open In Colab\"/></a>"
      ]
    },
    {
      "cell_type": "code",
      "source": [
        "!pip install yt-dlp"
      ],
      "metadata": {
        "colab": {
          "base_uri": "https://localhost:8080/"
        },
        "id": "Udv6s64ygLgt",
        "outputId": "e0c4657d-0582-4bae-baa4-56174e152df2"
      },
      "execution_count": null,
      "outputs": [
        {
          "output_type": "stream",
          "name": "stdout",
          "text": [
            "Requirement already satisfied: yt-dlp in /usr/local/lib/python3.10/dist-packages (2024.7.9)\n",
            "Requirement already satisfied: brotli in /usr/local/lib/python3.10/dist-packages (from yt-dlp) (1.1.0)\n",
            "Requirement already satisfied: certifi in /usr/local/lib/python3.10/dist-packages (from yt-dlp) (2024.7.4)\n",
            "Requirement already satisfied: mutagen in /usr/local/lib/python3.10/dist-packages (from yt-dlp) (1.47.0)\n",
            "Requirement already satisfied: pycryptodomex in /usr/local/lib/python3.10/dist-packages (from yt-dlp) (3.20.0)\n",
            "Requirement already satisfied: requests<3,>=2.32.2 in /usr/local/lib/python3.10/dist-packages (from yt-dlp) (2.32.3)\n",
            "Requirement already satisfied: urllib3<3,>=1.26.17 in /usr/local/lib/python3.10/dist-packages (from yt-dlp) (2.0.7)\n",
            "Requirement already satisfied: websockets>=12.0 in /usr/local/lib/python3.10/dist-packages (from yt-dlp) (12.0)\n",
            "Requirement already satisfied: charset-normalizer<4,>=2 in /usr/local/lib/python3.10/dist-packages (from requests<3,>=2.32.2->yt-dlp) (3.3.2)\n",
            "Requirement already satisfied: idna<4,>=2.5 in /usr/local/lib/python3.10/dist-packages (from requests<3,>=2.32.2->yt-dlp) (3.7)\n"
          ]
        }
      ]
    },
    {
      "cell_type": "code",
      "execution_count": null,
      "metadata": {
        "colab": {
          "base_uri": "https://localhost:8080/"
        },
        "id": "5Txb4BLc2qFh",
        "outputId": "01e5ead8-0ae7-4558-8981-d92cc91e776d"
      },
      "outputs": [
        {
          "output_type": "stream",
          "name": "stdout",
          "text": [
            "Enter video url: https://youtu.be/K87aFjB7Ff0?si=aCQ2jGHnEnLat_oi\n",
            "[youtube] Extracting URL: https://youtu.be/K87aFjB7Ff0?si=aCQ2jGHnEnLat_oi\n",
            "[youtube] K87aFjB7Ff0: Downloading webpage\n",
            "[youtube] K87aFjB7Ff0: Downloading ios player API JSON\n",
            "[youtube] K87aFjB7Ff0: Downloading m3u8 information\n",
            "[info] K87aFjB7Ff0: Downloading 1 format(s): 248+251\n",
            "[download] Destination: Beautiful Sunrise & The Flowers ｜ NO COPYRIGHT VIDEO ｜ NATURE [K87aFjB7Ff0].f248.webm\n",
            "[download] 100% of    1.55MiB in 00:00:00 at 9.61MiB/s   \n",
            "[download] Destination: Beautiful Sunrise & The Flowers ｜ NO COPYRIGHT VIDEO ｜ NATURE [K87aFjB7Ff0].f251.webm\n",
            "[download] 100% of  248.24KiB in 00:00:00 at 934.68KiB/s \n",
            "[Merger] Merging formats into \"Beautiful Sunrise & The Flowers ｜ NO COPYRIGHT VIDEO ｜ NATURE [K87aFjB7Ff0].webm\"\n",
            "Deleting original file Beautiful Sunrise & The Flowers ｜ NO COPYRIGHT VIDEO ｜ NATURE [K87aFjB7Ff0].f251.webm (pass -k to keep)\n",
            "Deleting original file Beautiful Sunrise & The Flowers ｜ NO COPYRIGHT VIDEO ｜ NATURE [K87aFjB7Ff0].f248.webm (pass -k to keep)\n",
            "Video downloaded successfully!\n"
          ]
        }
      ],
      "source": [
        "import yt_dlp\n",
        "# Enter the url for the download\n",
        "url = input(\"Enter video url: \")\n",
        "ydl_opts = {}\n",
        "with yt_dlp.YoutubeDL(ydl_opts) as ydl:\n",
        " ydl.download([url])\n",
        "print(\"Video downloaded successfully!\")"
      ]
    }
  ]
}